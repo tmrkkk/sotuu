{
 "cells": [
  {
   "cell_type": "code",
   "execution_count": null,
   "metadata": {},
   "outputs": [],
   "source": []
  },
  {
   "cell_type": "code",
   "execution_count": 1,
   "metadata": {
    "scrolled": true
   },
   "outputs": [
    {
     "name": "stdout",
     "output_type": "stream",
     "text": [
      "end\n"
     ]
    },
    {
     "name": "stderr",
     "output_type": "stream",
     "text": [
      "C:\\Users\\hinat\\Anaconda3\\lib\\site-packages\\ipykernel_launcher.py:41: FutureWarning: The signature of `Series.to_csv` was aligned to that of `DataFrame.to_csv`, and argument 'header' will change its default value from False to True: please pass an explicit value to suppress this warning.\n"
     ]
    }
   ],
   "source": [
    "# -*- coding: utf-8 -*-\n",
    "\n",
    "path = 'core_SUW.txt'\n",
    "\n",
    "#path = 'test.txt'\n",
    "\n",
    "import pandas as pd\n",
    "\n",
    "\n",
    "df = pd.read_table(path, header = None)\n",
    "df = df.iloc[::-1]\n",
    "\n",
    "result = pd.Series()\n",
    "\n",
    "flag = True\n",
    "buf = ''\n",
    "for index, row in df.iterrows():\n",
    " \n",
    "\n",
    "    if '動詞' in row[16] and '助動詞' not in row[16]:\n",
    "        buf = row[12]\n",
    "\n",
    "        flag = False\n",
    "    \n",
    "    if '名詞' in row[16] and '代名詞' not in row[16]:\n",
    "        if flag == False:\n",
    "            buf = row[12] + buf\n",
    "\n",
    "    else:\n",
    "        flag = True\n",
    "        try:\n",
    "            result[buf] += 1\n",
    "        except KeyError:\n",
    "            result[buf] = 1\n",
    "        buf = ''\n",
    "            #        print(type(result[buf]))\n",
    "#        result[buf] = 1\n",
    "\n",
    "\n",
    "res = result.sort_values(ascending = False)\n",
    "res.to_csv('result.csv')\n",
    "\n",
    "print(\"end\")"
   ]
  },
  {
   "cell_type": "code",
   "execution_count": null,
   "metadata": {},
   "outputs": [],
   "source": []
  },
  {
   "cell_type": "code",
   "execution_count": null,
   "metadata": {},
   "outputs": [],
   "source": []
  }
 ],
 "metadata": {
  "kernelspec": {
   "display_name": "Python 3",
   "language": "python",
   "name": "python3"
  },
  "language_info": {
   "codemirror_mode": {
    "name": "ipython",
    "version": 3
   },
   "file_extension": ".py",
   "mimetype": "text/x-python",
   "name": "python",
   "nbconvert_exporter": "python",
   "pygments_lexer": "ipython3",
   "version": "3.7.4"
  }
 },
 "nbformat": 4,
 "nbformat_minor": 2
}
