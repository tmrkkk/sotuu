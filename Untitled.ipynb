{
 "cells": [
  {
   "cell_type": "code",
   "execution_count": 10,
   "metadata": {},
   "outputs": [
    {
     "name": "stdout",
     "output_type": "stream",
     "text": [
      "end\n"
     ]
    },
    {
     "name": "stderr",
     "output_type": "stream",
     "text": [
      "C:\\Users\\hinat\\Anaconda3\\lib\\site-packages\\ipykernel_launcher.py:42: FutureWarning: The signature of `Series.to_csv` was aligned to that of `DataFrame.to_csv`, and argument 'header' will change its default value from False to True: please pass an explicit value to suppress this warning.\n"
     ]
    }
   ],
   "source": [
    "# -*- coding: utf-8 -*-\n",
    "\n",
    "path = 'core_SUW.txt'\n",
    "\n",
    "#path = 'test.txt'\n",
    "\n",
    "import sys\n",
    "import pandas as pd\n",
    "\n",
    "\n",
    "df = pd.read_table(path, header = None)\n",
    "df = df.iloc[::-1]\n",
    "\n",
    "result = pd.Series()\n",
    "\n",
    "flag = True\n",
    "buf = ''\n",
    "for index, row in df.iterrows():\n",
    " \n",
    "\n",
    "    if '為る' in str(row[12]):\n",
    "        buf = 'する'\n",
    "\n",
    "        flag = False\n",
    "        \n",
    "    else:\n",
    "        if '名詞-普通名詞-サ変可能' == row[16]:\n",
    "            if flag == False:\n",
    "                buf = row[12] + buf   \n",
    "                flag = True\n",
    "                try:\n",
    "                    result[buf] += 1\n",
    "                except KeyError:\n",
    "                \n",
    "                    result[buf] = 1\n",
    "                    buf = ''\n",
    "        else:\n",
    "                flag = True\n",
    " \n",
    " \n",
    "res = result.sort_values(ascending = False)\n",
    "res.to_csv('result4.csv')\n",
    "\n",
    "\n",
    "\n",
    "print(\"end\")"
   ]
  },
  {
   "cell_type": "code",
   "execution_count": 11,
   "metadata": {},
   "outputs": [
    {
     "name": "stdout",
     "output_type": "stream",
     "text": [
      "end\n"
     ]
    },
    {
     "name": "stderr",
     "output_type": "stream",
     "text": [
      "C:\\Users\\hinat\\Anaconda3\\lib\\site-packages\\ipykernel_launcher.py:13: FutureWarning: The signature of `Series.to_csv` was aligned to that of `DataFrame.to_csv`, and argument 'header' will change its default value from False to True: please pass an explicit value to suppress this warning.\n",
      "  del sys.path[0]\n"
     ]
    }
   ],
   "source": [
    "#漢字が2文字以上含まれない動詞を削除したresult4_k2.csvを出力\n",
    "\n",
    "import re\n",
    "\n",
    "res_k2 = pd.Series()\n",
    "\n",
    "k2 = re.compile(r'^.*[\\u4E00-\\u9FFF|]+.*[\\u4E00-\\u9FFF|]+.*$')\n",
    "\n",
    "for i, v in res.iteritems():\n",
    "        if k2.fullmatch(i):\n",
    "            res_k2[i] = v\n",
    "        \n",
    "res_k2.to_csv('result4_k2.csv')\n",
    "print(\"end\")"
   ]
  },
  {
   "cell_type": "code",
   "execution_count": 12,
   "metadata": {},
   "outputs": [
    {
     "name": "stdout",
     "output_type": "stream",
     "text": [
      "end\n"
     ]
    },
    {
     "name": "stderr",
     "output_type": "stream",
     "text": [
      "C:\\Users\\hinat\\Anaconda3\\lib\\site-packages\\ipykernel_launcher.py:17: FutureWarning: The signature of `Series.to_csv` was aligned to that of `DataFrame.to_csv`, and argument 'header' will change its default value from False to True: please pass an explicit value to suppress this warning.\n"
     ]
    }
   ],
   "source": [
    "import re\n",
    "\n",
    "r = re.compile(r'^[\\u4E00-\\u9FFF][\\u3041-\\u309F]+[\\u4E00-\\u9FFF][\\u3041-\\u309F]+$') #漢字→ひらがな→漢字→ひらがな\n",
    "#status_kanji = re_kanji.fullmatch(word2)\n",
    "\n",
    "res2 = pd.Series()\n",
    "\n",
    "\n",
    "for index, row in df.iterrows():\n",
    "    if r.fullmatch(str(row[12])) and '動詞-一般' == row[16]:\n",
    "        try:\n",
    "            res2[row[12]] += 1\n",
    "        except KeyError:\n",
    "            res2[row[12]] = 1\n",
    "\n",
    "res2 = res2.sort_values(ascending = False)            \n",
    "res2.to_csv('result5.csv')\n",
    "print(\"end\")"
   ]
  },
  {
   "cell_type": "code",
   "execution_count": null,
   "metadata": {},
   "outputs": [],
   "source": []
  },
  {
   "cell_type": "code",
   "execution_count": null,
   "metadata": {},
   "outputs": [],
   "source": []
  }
 ],
 "metadata": {
  "kernelspec": {
   "display_name": "Python 3",
   "language": "python",
   "name": "python3"
  },
  "language_info": {
   "codemirror_mode": {
    "name": "ipython",
    "version": 3
   },
   "file_extension": ".py",
   "mimetype": "text/x-python",
   "name": "python",
   "nbconvert_exporter": "python",
   "pygments_lexer": "ipython3",
   "version": "3.7.4"
  }
 },
 "nbformat": 4,
 "nbformat_minor": 2
}
