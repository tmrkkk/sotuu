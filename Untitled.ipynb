{
 "cells": [
  {
   "cell_type": "code",
   "execution_count": null,
   "metadata": {},
   "outputs": [],
   "source": []
  },
  {
   "cell_type": "code",
   "execution_count": 2,
   "metadata": {
    "scrolled": false
   },
   "outputs": [],
   "source": [
    "# -*- coding: utf-8 -*-\n",
    "\n",
    "#path = '/Users/tamura-k/Desktop/soturon/core_SUW.txt'\n",
    "\n",
    "#path = '/Users/tamura-k/Desktop/soturon/test.txt'\n",
    "\n",
    "path = 'test.txt'"
   ]
  },
  {
   "cell_type": "code",
   "execution_count": null,
   "metadata": {
    "scrolled": true
   },
   "outputs": [],
   "source": [
    "   "
   ]
  },
  {
   "cell_type": "code",
   "execution_count": 3,
   "metadata": {
    "scrolled": true
   },
   "outputs": [
    {
     "name": "stdout",
     "output_type": "stream",
     "text": [
      "test.txt\n",
      "{'encoding': 'UTF-8-SIG', 'confidence': 1.0, 'language': ''}\n",
      "\n"
     ]
    }
   ],
   "source": [
    "import codecs\n",
    "import chardet\n",
    "\n",
    "with codecs.open(path, 'rb') as f:\n",
    "    print(path)\n",
    "    print(chardet.detect(f.read()))\n",
    "    \n",
    "print()"
   ]
  },
  {
   "cell_type": "code",
   "execution_count": null,
   "metadata": {},
   "outputs": [],
   "source": []
  },
  {
   "cell_type": "code",
   "execution_count": 5,
   "metadata": {
    "scrolled": true
   },
   "outputs": [
    {
     "name": "stdout",
     "output_type": "stream",
     "text": [
      "[]\n"
     ]
    }
   ],
   "source": [
    "import codecs\n",
    "\n",
    "result=[] #[[原形、頻度],[~~], ....]\n",
    "\n",
    "with codecs.open(path, 'r', 'Shift-JIS', 'ignore') as f:\n",
    "    line = f.readline()\n",
    "\n",
    "    s_list = []\n",
    "    while line:\n",
    " \n",
    "        #print(line)\n",
    "        s_line = line.split('\\t')\n",
    "        #print(s_line)\n",
    "        s_list.append(s_line) \n",
    "        line = f.readline()\n",
    "        \n",
    "    \n",
    "\n",
    "s_list.reverse()    #取得した配列を逆順にする\n",
    "\n",
    "print(result)\n"
   ]
  },
  {
   "cell_type": "code",
   "execution_count": 6,
   "metadata": {},
   "outputs": [
    {
     "name": "stdout",
     "output_type": "stream",
     "text": [
      "[]\n"
     ]
    }
   ],
   "source": [
    "count = 0    #現在何行目を見ているか\n",
    "for value in s_list:\n",
    "\n",
    "    verb = ''\n",
    "\n",
    "    i = 0 #名詞カウント用 次の何行までが名詞か\n",
    "    flag = 0\n",
    "    if not '助動詞' in value[16]:#動詞を探す\n",
    "        if '動詞' in value[16]:\n",
    "            print(value[12])\n",
    "            while not'代名詞' in s_list[count+i][16] and '名詞' in s_list[count+i][16]: #次の行を見て名詞じゃなくなるまで繰り返す\n",
    "                i += 1\n",
    "\n",
    "\n",
    "            while i > 0: \n",
    "                verb = verb + s_list[count+i][12]\n",
    "                i -= 1\n",
    "            verb = verb + value[12]  \n",
    "            print(result)\n",
    "            #resultにすでにあればカウントを1増やす、なければ新しい要素を追加する\n",
    "            for num in range(len(result)):\n",
    "                if verb == result[num][0]:\n",
    "                    result[num][1] += 1\n",
    "                    flag = 1\n",
    "            if flag == 0:\n",
    "                result.append([verb, 1]) #\n",
    "          \n",
    "    count += 1\n",
    "\n",
    "    \n",
    "#降順に並べ替え\n",
    "    \n",
    "result.sort(reverse= True)\n",
    "print(result)\n"
   ]
  },
  {
   "cell_type": "code",
   "execution_count": null,
   "metadata": {},
   "outputs": [],
   "source": []
  },
  {
   "cell_type": "code",
   "execution_count": null,
   "metadata": {},
   "outputs": [],
   "source": []
  }
 ],
 "metadata": {
  "kernelspec": {
   "display_name": "Python 3",
   "language": "python",
   "name": "python3"
  },
  "language_info": {
   "codemirror_mode": {
    "name": "ipython",
    "version": 3
   },
   "file_extension": ".py",
   "mimetype": "text/x-python",
   "name": "python",
   "nbconvert_exporter": "python",
   "pygments_lexer": "ipython3",
   "version": "3.7.4"
  }
 },
 "nbformat": 4,
 "nbformat_minor": 2
}
